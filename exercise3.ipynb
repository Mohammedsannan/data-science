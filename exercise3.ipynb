{
 "cells": [
  {
   "cell_type": "code",
   "execution_count": 2,
   "metadata": {},
   "outputs": [
    {
     "name": "stdout",
     "output_type": "stream",
     "text": [
      "[[-0.43411677 -0.17898559 -0.88289682]\n",
      " [-0.58068705 -0.69368545  0.4261491 ]\n",
      " [-0.68872722  0.69768522  0.19720587]]\n",
      "[20.20715285  0.79770676  0.18611135]\n",
      "[[-0.46820019 -0.58124027 -0.66554364]\n",
      " [ 0.87679704 -0.21216361 -0.43152469]\n",
      " [-0.10961539  0.78558663 -0.60896479]]\n",
      "[[4. 5. 6.]\n",
      " [5. 7. 8.]\n",
      " [7. 8. 9.]]\n"
     ]
    }
   ],
   "source": [
    "#program to perform svd\n",
    "import numpy as nbr\n",
    "from scipy.linalg import svd\n",
    "b=nbr.array([[4,5,6],[5,7,8],[7,8,9]])\n",
    "v,s,t=svd(b)\n",
    "print(v)\n",
    "print(s)\n",
    "print(t)\n",
    "e=(v @ nbr.diag(s) @t)\n",
    "print(e)"
   ]
  },
  {
   "cell_type": "code",
   "execution_count": null,
   "metadata": {
    "collapsed": true
   },
   "outputs": [],
   "source": []
  }
 ],
 "metadata": {
  "kernelspec": {
   "display_name": "Python 3",
   "language": "python",
   "name": "python3"
  },
  "language_info": {
   "codemirror_mode": {
    "name": "ipython",
    "version": 3
   },
   "file_extension": ".py",
   "mimetype": "text/x-python",
   "name": "python",
   "nbconvert_exporter": "python",
   "pygments_lexer": "ipython3",
   "version": "3.6.3"
  }
 },
 "nbformat": 4,
 "nbformat_minor": 2
}
