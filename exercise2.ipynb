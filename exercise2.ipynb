{
 "cells": [
  {
   "cell_type": "code",
   "execution_count": 1,
   "metadata": {},
   "outputs": [
    {
     "name": "stdout",
     "output_type": "stream",
     "text": [
      "matrix a:\n",
      " [[1 2 3]\n",
      " [4 5 6]\n",
      " [7 8 9]]\n",
      "matrix b:\n",
      " [[4 5 6]\n",
      " [5 7 8]\n",
      " [7 8 9]]\n",
      "matrix multiplication:\n",
      " [[ 35  43  49]\n",
      " [ 83 103 118]\n",
      " [131 163 187]]\n",
      "transpose:\n",
      " [[ 35  83 131]\n",
      " [ 43 103 163]\n",
      " [ 49 118 187]]\n"
     ]
    }
   ],
   "source": [
    "#matrix multiplication\n",
    "import numpy as nbr\n",
    "a=nbr.array([[1,2,3],[4,5,6],[7,8,9]])\n",
    "b=nbr.array([[4,5,6],[5,7,8],[7,8,9]])\n",
    "print(\"matrix a:\\n\",a)\n",
    "print(\"matrix b:\\n\",b)\n",
    "c=nbr.dot(a,b)\n",
    "print(\"matrix multiplication:\\n\",c)\n",
    "d=nbr.transpose(c)\n",
    "print(\"transpose:\\n\",d)"
   ]
  },
  {
   "cell_type": "code",
   "execution_count": 2,
   "metadata": {},
   "outputs": [
    {
     "name": "stdout",
     "output_type": "stream",
     "text": [
      "[[1 2 3]\n",
      " [4 5 6]\n",
      " [7 8 9]]\n"
     ]
    }
   ],
   "source": [
    "a=nbr.array([1,2,3,4,5,6,7,8,9])\n",
    "b=a.reshape(3,3)\n",
    "print(b)"
   ]
  },
  {
   "cell_type": "code",
   "execution_count": 3,
   "metadata": {},
   "outputs": [
    {
     "name": "stdout",
     "output_type": "stream",
     "text": [
      "[[0 0 0]\n",
      " [0 0 0]\n",
      " [0 0 0]]\n"
     ]
    }
   ],
   "source": [
    "a=nbr.zeros([3,3],dtype='i')\n",
    "print(a)"
   ]
  },
  {
   "cell_type": "code",
   "execution_count": null,
   "metadata": {
    "collapsed": true
   },
   "outputs": [],
   "source": []
  }
 ],
 "metadata": {
  "kernelspec": {
   "display_name": "Python 3",
   "language": "python",
   "name": "python3"
  },
  "language_info": {
   "codemirror_mode": {
    "name": "ipython",
    "version": 3
   },
   "file_extension": ".py",
   "mimetype": "text/x-python",
   "name": "python",
   "nbconvert_exporter": "python",
   "pygments_lexer": "ipython3",
   "version": "3.6.3"
  }
 },
 "nbformat": 4,
 "nbformat_minor": 2
}
