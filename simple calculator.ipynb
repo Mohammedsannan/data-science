{
 "cells": [
  {
   "cell_type": "code",
   "execution_count": 6,
   "metadata": {},
   "outputs": [
    {
     "name": "stdout",
     "output_type": "stream",
     "text": [
      "enter a number:5\n",
      "enter a number:4\n",
      "\n",
      "1.addition\n",
      "2.substraction\n",
      "3.division\n",
      "4.multiplication\n",
      "enter your choice:1\n",
      "sum is: 9\n",
      "\n",
      "1.addition\n",
      "2.substraction\n",
      "3.division\n",
      "4.multiplication\n",
      "enter your choice:2\n",
      "sub is: 1\n",
      "\n",
      "1.addition\n",
      "2.substraction\n",
      "3.division\n",
      "4.multiplication\n",
      "enter your choice:3\n",
      "div is: 1.25\n",
      "\n",
      "1.addition\n",
      "2.substraction\n",
      "3.division\n",
      "4.multiplication\n",
      "enter your choice:4\n",
      "mul is: 20\n",
      "\n",
      "1.addition\n",
      "2.substraction\n",
      "3.division\n",
      "4.multiplication\n",
      "enter your choice:5\n",
      "exiting...\n"
     ]
    }
   ],
   "source": [
    "n1=int(input(\"enter a number:\"))\n",
    "n2=int(input(\"enter a number:\"))\n",
    "while(1):\n",
    "    print(\"\\n1.addition\\n2.substraction\\n3.division\\n4.multiplication\")\n",
    "    ch=int(input(\"enter your choice:\"))\n",
    "    if ch==1:\n",
    "        sum=n1+n2\n",
    "        print(\"sum is:\",sum)\n",
    "    elif ch==2:\n",
    "        sub=n1-n2\n",
    "        print(\"sub is:\",sub)\n",
    "    elif ch==3:\n",
    "        if n2==0:\n",
    "            print(\"division is not possible\")\n",
    "            break\n",
    "        div=n1/n2\n",
    "        print(\"div is:\",div)\n",
    "    elif ch==4:\n",
    "        mul=n1*n2\n",
    "        print(\"mul is:\",mul) \n",
    "    else:\n",
    "        print(\"exiting...\")\n",
    "        break"
   ]
  },
  {
   "cell_type": "markdown",
   "metadata": {},
   "source": []
  }
 ],
 "metadata": {
  "kernelspec": {
   "display_name": "Python 3",
   "language": "python",
   "name": "python3"
  },
  "language_info": {
   "codemirror_mode": {
    "name": "ipython",
    "version": 3
   },
   "file_extension": ".py",
   "mimetype": "text/x-python",
   "name": "python",
   "nbconvert_exporter": "python",
   "pygments_lexer": "ipython3",
   "version": "3.6.3"
  }
 },
 "nbformat": 4,
 "nbformat_minor": 2
}
